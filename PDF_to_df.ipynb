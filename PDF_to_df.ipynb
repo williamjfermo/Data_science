{
 "cells": [
  {
   "cell_type": "code",
   "execution_count": null,
   "metadata": {},
   "outputs": [],
   "source": [
    "#Install necessary tool\n",
    "pip install tabula-py"
   ]
  },
  {
   "cell_type": "code",
   "execution_count": 1,
   "metadata": {},
   "outputs": [],
   "source": [
    "#import tabula\n",
    "from tabula import read_pdf\n",
    "df = read_pdf('Bike-Share-Programs-in-the-United-States-2016.pdf')"
   ]
  },
  {
   "cell_type": "code",
   "execution_count": 2,
   "metadata": {},
   "outputs": [
    {
     "data": {
      "text/html": [
       "<div>\n",
       "<style scoped>\n",
       "    .dataframe tbody tr th:only-of-type {\n",
       "        vertical-align: middle;\n",
       "    }\n",
       "\n",
       "    .dataframe tbody tr th {\n",
       "        vertical-align: top;\n",
       "    }\n",
       "\n",
       "    .dataframe thead th {\n",
       "        text-align: right;\n",
       "    }\n",
       "</style>\n",
       "<table border=\"1\" class=\"dataframe\">\n",
       "  <thead>\n",
       "    <tr style=\"text-align: right;\">\n",
       "      <th></th>\n",
       "      <th>Table 1</th>\n",
       "      <th>Unnamed: 1</th>\n",
       "      <th>Unnamed: 2</th>\n",
       "      <th>Unnamed: 3</th>\n",
       "      <th>Unnamed: 4</th>\n",
       "      <th>Unnamed: 5</th>\n",
       "      <th>Unnamed: 6</th>\n",
       "    </tr>\n",
       "  </thead>\n",
       "  <tbody>\n",
       "    <tr>\n",
       "      <th>0</th>\n",
       "      <td>System Name</td>\n",
       "      <td>Location</td>\n",
       "      <td>Launch Date</td>\n",
       "      <td>Bike Tech</td>\n",
       "      <td>Operator Type</td>\n",
       "      <td>Bikes at Launch</td>\n",
       "      <td>Bikes as of 12/2016</td>\n",
       "    </tr>\n",
       "    <tr>\n",
       "      <th>1</th>\n",
       "      <td>ArborBike</td>\n",
       "      <td>Ann Arbor, MI</td>\n",
       "      <td>September 2014</td>\n",
       "      <td>B-Cycle</td>\n",
       "      <td>Independently Operated</td>\n",
       "      <td>45</td>\n",
       "      <td>125</td>\n",
       "    </tr>\n",
       "    <tr>\n",
       "      <th>2</th>\n",
       "      <td>Austin B-Cycle</td>\n",
       "      <td>Austin, TX</td>\n",
       "      <td>December 2013</td>\n",
       "      <td>B-Cycle</td>\n",
       "      <td>Independently Operated</td>\n",
       "      <td>75</td>\n",
       "      <td>520</td>\n",
       "    </tr>\n",
       "    <tr>\n",
       "      <th>3</th>\n",
       "      <td>AvMed Rides</td>\n",
       "      <td>Broward County, FL</td>\n",
       "      <td>December 2011</td>\n",
       "      <td>B-Cycle</td>\n",
       "      <td>B-Cycle</td>\n",
       "      <td>200</td>\n",
       "      <td>275</td>\n",
       "    </tr>\n",
       "    <tr>\n",
       "      <th>4</th>\n",
       "      <td>Baltimore Bike Share</td>\n",
       "      <td>Baltimore, MD</td>\n",
       "      <td>October 2016</td>\n",
       "      <td>Bewegen</td>\n",
       "      <td>Independently Operated</td>\n",
       "      <td>200</td>\n",
       "      <td>200</td>\n",
       "    </tr>\n",
       "  </tbody>\n",
       "</table>\n",
       "</div>"
      ],
      "text/plain": [
       "                Table 1          Unnamed: 1      Unnamed: 2 Unnamed: 3  \\\n",
       "0           System Name            Location     Launch Date  Bike Tech   \n",
       "1             ArborBike       Ann Arbor, MI  September 2014    B-Cycle   \n",
       "2        Austin B-Cycle          Austin, TX   December 2013    B-Cycle   \n",
       "3           AvMed Rides  Broward County, FL   December 2011    B-Cycle   \n",
       "4  Baltimore Bike Share       Baltimore, MD    October 2016    Bewegen   \n",
       "\n",
       "               Unnamed: 4       Unnamed: 5           Unnamed: 6  \n",
       "0           Operator Type  Bikes at Launch  Bikes as of 12/2016  \n",
       "1  Independently Operated               45                  125  \n",
       "2  Independently Operated               75                  520  \n",
       "3                 B-Cycle              200                  275  \n",
       "4  Independently Operated              200                  200  "
      ]
     },
     "execution_count": 2,
     "metadata": {},
     "output_type": "execute_result"
    }
   ],
   "source": [
    "df.head()"
   ]
  },
  {
   "cell_type": "code",
   "execution_count": 3,
   "metadata": {},
   "outputs": [
    {
     "data": {
      "text/html": [
       "<div>\n",
       "<style scoped>\n",
       "    .dataframe tbody tr th:only-of-type {\n",
       "        vertical-align: middle;\n",
       "    }\n",
       "\n",
       "    .dataframe tbody tr th {\n",
       "        vertical-align: top;\n",
       "    }\n",
       "\n",
       "    .dataframe thead th {\n",
       "        text-align: right;\n",
       "    }\n",
       "</style>\n",
       "<table border=\"1\" class=\"dataframe\">\n",
       "  <thead>\n",
       "    <tr style=\"text-align: right;\">\n",
       "      <th></th>\n",
       "      <th>Table 1</th>\n",
       "      <th>Unnamed: 1</th>\n",
       "      <th>Unnamed: 2</th>\n",
       "      <th>Unnamed: 3</th>\n",
       "      <th>Unnamed: 4</th>\n",
       "      <th>Unnamed: 5</th>\n",
       "      <th>Unnamed: 6</th>\n",
       "    </tr>\n",
       "  </thead>\n",
       "  <tbody>\n",
       "    <tr>\n",
       "      <th>0</th>\n",
       "      <td>System Name</td>\n",
       "      <td>Location</td>\n",
       "      <td>Launch Date</td>\n",
       "      <td>Bike Tech</td>\n",
       "      <td>Operator Type</td>\n",
       "      <td>Bikes at Launch</td>\n",
       "      <td>Bikes as of 12/2016</td>\n",
       "    </tr>\n",
       "  </tbody>\n",
       "</table>\n",
       "</div>"
      ],
      "text/plain": [
       "       Table 1 Unnamed: 1   Unnamed: 2 Unnamed: 3     Unnamed: 4  \\\n",
       "0  System Name   Location  Launch Date  Bike Tech  Operator Type   \n",
       "\n",
       "        Unnamed: 5           Unnamed: 6  \n",
       "0  Bikes at Launch  Bikes as of 12/2016  "
      ]
     },
     "execution_count": 3,
     "metadata": {},
     "output_type": "execute_result"
    }
   ],
   "source": [
    "df[0:1]"
   ]
  },
  {
   "cell_type": "code",
   "execution_count": 4,
   "metadata": {
    "scrolled": false
   },
   "outputs": [
    {
     "data": {
      "text/plain": [
       "['Table 1',\n",
       " 'Unnamed: 1',\n",
       " 'Unnamed: 2',\n",
       " 'Unnamed: 3',\n",
       " 'Unnamed: 4',\n",
       " 'Unnamed: 5',\n",
       " 'Unnamed: 6']"
      ]
     },
     "execution_count": 4,
     "metadata": {},
     "output_type": "execute_result"
    }
   ],
   "source": [
    "list(df[0:1])"
   ]
  },
  {
   "cell_type": "code",
   "execution_count": 15,
   "metadata": {},
   "outputs": [],
   "source": [
    "df.rename(columns={'System Name': 'Location'}, inplace=True)"
   ]
  },
  {
   "cell_type": "code",
   "execution_count": 20,
   "metadata": {},
   "outputs": [],
   "source": [
    "df.drop([0], inplace =True)"
   ]
  },
  {
   "cell_type": "code",
   "execution_count": 21,
   "metadata": {
    "scrolled": true
   },
   "outputs": [
    {
     "data": {
      "text/html": [
       "<div>\n",
       "<style scoped>\n",
       "    .dataframe tbody tr th:only-of-type {\n",
       "        vertical-align: middle;\n",
       "    }\n",
       "\n",
       "    .dataframe tbody tr th {\n",
       "        vertical-align: top;\n",
       "    }\n",
       "\n",
       "    .dataframe thead th {\n",
       "        text-align: right;\n",
       "    }\n",
       "</style>\n",
       "<table border=\"1\" class=\"dataframe\">\n",
       "  <thead>\n",
       "    <tr style=\"text-align: right;\">\n",
       "      <th></th>\n",
       "      <th>Location</th>\n",
       "      <th>Location</th>\n",
       "      <th>Launch Data</th>\n",
       "      <th>Bike Tech</th>\n",
       "      <th>Operator Type</th>\n",
       "      <th>Bikes at Launch</th>\n",
       "      <th>Bikes as of 12/20/2016</th>\n",
       "    </tr>\n",
       "  </thead>\n",
       "  <tbody>\n",
       "    <tr>\n",
       "      <th>1</th>\n",
       "      <td>ArborBike</td>\n",
       "      <td>Ann Arbor, MI</td>\n",
       "      <td>September 2014</td>\n",
       "      <td>B-Cycle</td>\n",
       "      <td>Independently Operated</td>\n",
       "      <td>45</td>\n",
       "      <td>125</td>\n",
       "    </tr>\n",
       "    <tr>\n",
       "      <th>2</th>\n",
       "      <td>Austin B-Cycle</td>\n",
       "      <td>Austin, TX</td>\n",
       "      <td>December 2013</td>\n",
       "      <td>B-Cycle</td>\n",
       "      <td>Independently Operated</td>\n",
       "      <td>75</td>\n",
       "      <td>520</td>\n",
       "    </tr>\n",
       "    <tr>\n",
       "      <th>3</th>\n",
       "      <td>AvMed Rides</td>\n",
       "      <td>Broward County, FL</td>\n",
       "      <td>December 2011</td>\n",
       "      <td>B-Cycle</td>\n",
       "      <td>B-Cycle</td>\n",
       "      <td>200</td>\n",
       "      <td>275</td>\n",
       "    </tr>\n",
       "    <tr>\n",
       "      <th>4</th>\n",
       "      <td>Baltimore Bike Share</td>\n",
       "      <td>Baltimore, MD</td>\n",
       "      <td>October 2016</td>\n",
       "      <td>Bewegen</td>\n",
       "      <td>Independently Operated</td>\n",
       "      <td>200</td>\n",
       "      <td>200</td>\n",
       "    </tr>\n",
       "    <tr>\n",
       "      <th>5</th>\n",
       "      <td>Bay Area Bike Share</td>\n",
       "      <td>San Francisco Bay Area, CA</td>\n",
       "      <td>August 2013</td>\n",
       "      <td>PBSC</td>\n",
       "      <td>Motivate</td>\n",
       "      <td>700</td>\n",
       "      <td>700</td>\n",
       "    </tr>\n",
       "  </tbody>\n",
       "</table>\n",
       "</div>"
      ],
      "text/plain": [
       "               Location                    Location     Launch Data Bike Tech  \\\n",
       "1             ArborBike               Ann Arbor, MI  September 2014   B-Cycle   \n",
       "2        Austin B-Cycle                  Austin, TX   December 2013   B-Cycle   \n",
       "3           AvMed Rides          Broward County, FL   December 2011   B-Cycle   \n",
       "4  Baltimore Bike Share               Baltimore, MD    October 2016   Bewegen   \n",
       "5   Bay Area Bike Share  San Francisco Bay Area, CA     August 2013      PBSC   \n",
       "\n",
       "            Operator Type Bikes at Launch Bikes as of 12/20/2016  \n",
       "1  Independently Operated              45                    125  \n",
       "2  Independently Operated              75                    520  \n",
       "3                 B-Cycle             200                    275  \n",
       "4  Independently Operated             200                    200  \n",
       "5                Motivate             700                    700  "
      ]
     },
     "execution_count": 21,
     "metadata": {},
     "output_type": "execute_result"
    }
   ],
   "source": [
    "df.head()"
   ]
  },
  {
   "cell_type": "code",
   "execution_count": 22,
   "metadata": {},
   "outputs": [],
   "source": [
    "df.to_csv(r'bike_launches.csv')"
   ]
  },
  {
   "cell_type": "code",
   "execution_count": null,
   "metadata": {},
   "outputs": [],
   "source": []
  }
 ],
 "metadata": {
  "kernelspec": {
   "display_name": "Python 3",
   "language": "python",
   "name": "python3"
  },
  "language_info": {
   "codemirror_mode": {
    "name": "ipython",
    "version": 3
   },
   "file_extension": ".py",
   "mimetype": "text/x-python",
   "name": "python",
   "nbconvert_exporter": "python",
   "pygments_lexer": "ipython3",
   "version": "3.7.3"
  }
 },
 "nbformat": 4,
 "nbformat_minor": 2
}
